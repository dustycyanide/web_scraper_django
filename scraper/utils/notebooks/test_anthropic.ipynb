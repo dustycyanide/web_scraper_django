{
 "cells": [
  {
   "cell_type": "code",
   "execution_count": 1,
   "metadata": {},
   "outputs": [],
   "source": [
    "import anthropic\n",
    "import os"
   ]
  },
  {
   "cell_type": "code",
   "execution_count": 2,
   "metadata": {},
   "outputs": [],
   "source": [
    "ANTHROPIC_API_KEY = os.getenv(\n",
    "    \"ANTHROPIC_API_KEY\"\n",
    ")\n",
    "\n",
    "client = anthropic.Anthropic(\n",
    "    api_key=ANTHROPIC_API_KEY\n",
    ")\n",
    "\n",
    "def run_structured_data_converter(html_data):\n",
    "    message = client.messages.create(\n",
    "        model=\"claude-3-5-sonnet-20240620\",\n",
    "        max_tokens=1024,\n",
    "        system=\"You are a season web scraper, creating structured data from HTML.\",\n",
    "        messages=[\n",
    "            {\"role\": \"user\", \"content\": f\"Please convert the HTML provided below into structured JSON output, containing the most important elements only. #HTML/n{html_data}\"},\n",
    "        ]\n",
    "    )\n",
    "\n",
    "    return message.content"
   ]
  },
  {
   "cell_type": "code",
   "execution_count": 8,
   "metadata": {},
   "outputs": [
    {
     "name": "stdout",
     "output_type": "stream",
     "text": [
      "title: eufy RoboVac 25C Robotic Vacuum Cleaner Wi-Fi Smart Automatic Sweeper Robot APP\n",
      "price: US $69.99\n",
      "condition: Certified - RefurbishedCertified - RefurbishedMore information - About this item condition\n",
      "item_specifics: {}\n",
      "description: eBayEufy RoboVac 25C Wi-Fi Connected Robot Vacuum|eBay Certified RefurbishedProduct DetailsRoboVac 25CThe Super-Slim and Even More Powerful RoboVac with Wi-Fi ConnectivityFrom eufy, the brand that lights up your life•Smart technology and innovative design that make your life easier• Created by the same team as Anker—renowned for exceptional quality and innovationLean, Mean, Cleaning MachineRoboVac may be super-slim, but it’s packed with a 3-point cleaning system, BoostIQ™ technology, and up to 1...\n"
     ]
    }
   ],
   "source": [
    "import requests\n",
    "from bs4 import BeautifulSoup\n",
    "\n",
    "def get_html_content(url):\n",
    "    try:\n",
    "        response = requests.get(url)\n",
    "        response.raise_for_status()  # Raise an exception for bad status codes\n",
    "        return response.text\n",
    "    except requests.RequestException as e:\n",
    "        print(f\"An error occurred: {e}\")\n",
    "        return None\n",
    "\n",
    "def scrape_ebay_product(url):\n",
    "    try:\n",
    "        html_content = get_html_content(url)\n",
    "        if not html_content:\n",
    "            return None\n",
    "        \n",
    "        soup = BeautifulSoup(html_content, 'html.parser')\n",
    "        \n",
    "        product_info = {}\n",
    "        \n",
    "        # Extract title\n",
    "        title_elem = soup.find('h1', {'class': 'x-item-title__mainTitle'})\n",
    "        if title_elem:\n",
    "            product_info['title'] = title_elem.text.strip()\n",
    "        \n",
    "        # Extract price\n",
    "        price_elem = soup.find('div', {'class': 'x-price-primary'})\n",
    "        if price_elem:\n",
    "            product_info['price'] = price_elem.text.strip()\n",
    "        \n",
    "        # Extract condition\n",
    "        condition_elem = soup.find('div', {'class': 'x-item-condition-text'})\n",
    "        if condition_elem:\n",
    "            product_info['condition'] = condition_elem.text.strip()\n",
    "        \n",
    "        # Extract item specifics\n",
    "        item_specifics = {}\n",
    "        specifics_container = soup.find('div', {'class': 'ux-layout-section__item--table-view'})\n",
    "        if specifics_container:\n",
    "            for row in specifics_container.find_all('div', {'class': 'ux-layout-section__row'}):\n",
    "                label = row.find('div', {'class': 'ux-labels-values__labels'})\n",
    "                value = row.find('div', {'class': 'ux-labels-values__values'})\n",
    "                if label and value:\n",
    "                    item_specifics[label.text.strip()] = value.text.strip()\n",
    "        product_info['item_specifics'] = item_specifics\n",
    "        \n",
    "        # Extract description\n",
    "        description_iframe = soup.find('iframe', {'id': 'desc_ifr'})\n",
    "        if description_iframe:\n",
    "            desc_url = description_iframe.get('src')\n",
    "            if desc_url:\n",
    "                desc_html = get_html_content(desc_url)\n",
    "                if desc_html:\n",
    "                    desc_soup = BeautifulSoup(desc_html, 'html.parser')\n",
    "                    description = desc_soup.get_text(strip=True)\n",
    "                    # Trim description to first 500 characters\n",
    "                    product_info['description'] = description[:500] + ('...' if len(description) > 500 else '')\n",
    "        \n",
    "        return product_info\n",
    "    \n",
    "    except Exception as e:\n",
    "        print(f\"An error occurred while scraping: {e}\")\n",
    "        return None\n",
    "\n",
    "\n",
    "# Example usage\n",
    "url = \"https://www.ebay.com/itm/383841870626\" # RoboVac product (random product i picked)\n",
    "roboVac_html = scrape_ebay_product(url)\n",
    "if roboVac_html:\n",
    "    for key, value in roboVac_html.items():\n",
    "        print(f\"{key}: {value}\")\n",
    "else:\n",
    "    print(\"Failed to retrieve product information\")"
   ]
  },
  {
   "cell_type": "code",
   "execution_count": null,
   "metadata": {},
   "outputs": [],
   "source": []
  }
 ],
 "metadata": {
  "kernelspec": {
   "display_name": "Python 3",
   "language": "python",
   "name": "python3"
  },
  "language_info": {
   "codemirror_mode": {
    "name": "ipython",
    "version": 3
   },
   "file_extension": ".py",
   "mimetype": "text/x-python",
   "name": "python",
   "nbconvert_exporter": "python",
   "pygments_lexer": "ipython3",
   "version": "3.12.4"
  }
 },
 "nbformat": 4,
 "nbformat_minor": 2
}
